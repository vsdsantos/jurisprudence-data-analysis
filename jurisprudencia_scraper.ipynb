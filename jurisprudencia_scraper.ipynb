{
  "nbformat": 4,
  "nbformat_minor": 0,
  "metadata": {
    "kernelspec": {
      "display_name": "Python 3",
      "language": "python",
      "name": "python3"
    },
    "language_info": {
      "codemirror_mode": {
        "name": "ipython",
        "version": 3
      },
      "file_extension": ".py",
      "mimetype": "text/x-python",
      "name": "python",
      "nbconvert_exporter": "python",
      "pygments_lexer": "ipython3",
      "version": "3.7.7"
    },
    "colab": {
      "name": "jurisprudencia_scraper.ipynb",
      "provenance": [],
      "collapsed_sections": [],
      "include_colab_link": true
    }
  },
  "cells": [
    {
      "cell_type": "markdown",
      "metadata": {
        "id": "view-in-github",
        "colab_type": "text"
      },
      "source": [
        "<a href=\"https://colab.research.google.com/github/zuckberj/jurisprudence-data-analysis/blob/master/jurisprudencia_scraper.ipynb\" target=\"_parent\"><img src=\"https://colab.research.google.com/assets/colab-badge.svg\" alt=\"Open In Colab\"/></a>"
      ]
    },
    {
      "cell_type": "code",
      "metadata": {
        "id": "yX0LtLy0JIKr",
        "colab_type": "code",
        "colab": {
          "base_uri": "https://localhost:8080/",
          "height": 228
        },
        "outputId": "c1b3d656-5884-4b87-ba03-f887a1f3b0eb"
      },
      "source": [
        "!pip install aiohttp tqdm\n",
        "\n",
        "from concurrent.futures import ThreadPoolExecutor\n",
        "from tqdm import tqdm\n",
        "import requests\n",
        "import aiohttp\n",
        "import asyncio\n",
        "import json\n",
        "\n",
        "from google.colab import drive\n",
        "drive.mount('/content/drive')"
      ],
      "execution_count": 3,
      "outputs": [
        {
          "output_type": "stream",
          "text": [
            "Requirement already satisfied: aiohttp in /usr/local/lib/python3.6/dist-packages (3.6.2)\n",
            "Requirement already satisfied: tqdm in /usr/local/lib/python3.6/dist-packages (4.41.1)\n",
            "Requirement already satisfied: async-timeout<4.0,>=3.0 in /usr/local/lib/python3.6/dist-packages (from aiohttp) (3.0.1)\n",
            "Requirement already satisfied: typing-extensions>=3.6.5; python_version < \"3.7\" in /usr/local/lib/python3.6/dist-packages (from aiohttp) (3.7.4.2)\n",
            "Requirement already satisfied: attrs>=17.3.0 in /usr/local/lib/python3.6/dist-packages (from aiohttp) (19.3.0)\n",
            "Requirement already satisfied: idna-ssl>=1.0; python_version < \"3.7\" in /usr/local/lib/python3.6/dist-packages (from aiohttp) (1.1.0)\n",
            "Requirement already satisfied: multidict<5.0,>=4.5 in /usr/local/lib/python3.6/dist-packages (from aiohttp) (4.7.6)\n",
            "Requirement already satisfied: chardet<4.0,>=2.0 in /usr/local/lib/python3.6/dist-packages (from aiohttp) (3.0.4)\n",
            "Requirement already satisfied: yarl<2.0,>=1.0 in /usr/local/lib/python3.6/dist-packages (from aiohttp) (1.5.1)\n",
            "Requirement already satisfied: idna>=2.0 in /usr/local/lib/python3.6/dist-packages (from idna-ssl>=1.0; python_version < \"3.7\"->aiohttp) (2.10)\n",
            "Drive already mounted at /content/drive; to attempt to forcibly remount, call drive.mount(\"/content/drive\", force_remount=True).\n"
          ],
          "name": "stdout"
        }
      ]
    },
    {
      "cell_type": "code",
      "metadata": {
        "id": "5Up0zHNkE22d",
        "colab_type": "code",
        "colab": {}
      },
      "source": [
        "async def request_url(session, url, params):\n",
        "    #proxies = {\"http\": \"http://127.0.0.1:8080\", \"https\": \"http://127.0.0.1:8080\"}\n",
        "    #async with session.get(url+\"/\"+path,proxy=\"http://127.0.0.1:8080\",ssl=ssl.SSLContext()) as response:\n",
        "    try:\n",
        "        headers = {'accept': 'application/json'}\n",
        "        async with session.post(url, data=params, headers=headers) as response:\n",
        "            if response.status != 200:\n",
        "                return None\n",
        "            return await response.text()\n",
        "    except:\n",
        "        return None\n",
        "\n",
        "def filter_fields():\n",
        "  return [\"acordao_ata^3\",\n",
        "          \"documental_acordao_mesmo_sentido_lista_texto\",\n",
        "          \"documental_doutrina_texto\",\n",
        "          \"documental_indexacao_texto\",\n",
        "          \"documental_jurisprudencia_citada_texto\",\n",
        "          \"documental_legislacao_citada_texto\",\n",
        "          \"documental_observacao_texto\",\n",
        "          \"documental_publicacao_lista_texto\",\n",
        "          \"documental_tese_tema_texto^3\",\n",
        "          \"documental_tese_texto^3\",\n",
        "          \"ementa_texto^3\",\n",
        "          \"ministro_facet\",\n",
        "          \"orgao_julgador\",\n",
        "          \"partes_lista_texto\",\n",
        "          \"procedencia_geografica_completo\",\n",
        "          \"processo_classe_processual_unificada_extenso\",\n",
        "          \"titulo^6\",\n",
        "          \"colac_numero\",\n",
        "          \"colac_pagina\",\n",
        "          \"decisao_texto^2\",\n",
        "          \"documental_decisao_mesmo_sentido_lista_texto\",\n",
        "          \"processo_precedente_texto\",\n",
        "          \"sumula_texto^3\",\n",
        "          \"conteudo_texto\"]\n",
        "\n",
        "def query_builder(query_term, size, page):\n",
        "  query = {\n",
        "    \"query\":{\n",
        "        \"function_score\":{\n",
        "            \"query\":{\n",
        "                \"bool\":{\n",
        "                    \"filter\":[\n",
        "                        {\n",
        "                            \"query_string\":{\n",
        "                                \"default_operator\":\"AND\",\n",
        "                                \"fields\": filter_fields(),\n",
        "                                \"query\": query_term,\n",
        "                                \"quote_analyzer\":\"standard_analyzer\",\n",
        "                                \"quote_field_suffix\":\".standard\",\n",
        "                                \"type\":\"cross_fields\",\n",
        "                                \"fuzziness\":\"AUTO:4,7\"\n",
        "                            }\n",
        "                        }\n",
        "                    ]\n",
        "                }\n",
        "            }\n",
        "        }\n",
        "    },\n",
        "    \"_source\":[\n",
        "        \"inteiro_teor_url\"\n",
        "    ],\n",
        "    \"aggs\":{\n",
        "        \"base_agg\":{\n",
        "            \"filters\":{\n",
        "                \"filters\":{\n",
        "                    \"acordaos\":{\n",
        "                        \"match\":{\"base\":\"acordaos\"}\n",
        "                    },\n",
        "                    \"sumulas\":{\n",
        "                        \"match\":{\"base\":\"sumulas\"}\n",
        "                    },\n",
        "                    \"decisoes\":{\n",
        "                        \"match\":{\"base\":\"decisoes\"}\n",
        "                    },\n",
        "                    \"informativos\":{\n",
        "                        \"match\":{\"base\":\"informativos\"}\n",
        "                    }\n",
        "                }\n",
        "            }\n",
        "        }\n",
        "    },\n",
        "    \"size\": size,\n",
        "    \"from\": page\n",
        "  }\n",
        "  return json.dump(query)\n",
        "\n",
        "async def scrap_single(session, search_query, size, max_page=-1):\n",
        "  url = 'https://jurisprudencia.stf.jus.br/api/search/search'\n",
        "  index = 0\n",
        "  eof = False\n",
        "  pdf_urls = []\n",
        "  while not eof and index != max_page*size:\n",
        "    params = query_builder()\n",
        "    response = await request_url(session, url, params)\n",
        "    results = json.loads(response)['result']['hits']['hits']\n",
        "    pdf_urls = pdf_urls + [result['_source']['inteiro_teor_url'] for result in results if result['_source']!={}]\n",
        "    if not results:\n",
        "      eof = True\n",
        "    index += size\n",
        "    return pdf_urls\n",
        "  \n",
        "def download(url, file_name=''):\n",
        "  if file_name == '':\n",
        "    file_name = url.split('=')[1]+'.pdf'\n",
        "  print(file_name)\n",
        "  try:\n",
        "    response = requests.get(url, stream=True)\n",
        "    with open(file_name, \"wb\") as handle:\n",
        "      for data in tqdm(response.iter_content()):\n",
        "        handle.write(data)\n",
        "    return True\n",
        "  except Exception as e:\n",
        "    print(\"Error while downloading. Trying Again. \"+str(e))\n",
        "    return False\n",
        "\n",
        "def download_list(urls_):\n",
        "  urls = set(urls_)\n",
        "  for url in urls:\n",
        "    result = download(url)\n",
        "    print(result)"
      ],
      "execution_count": 4,
      "outputs": []
    },
    {
      "cell_type": "code",
      "metadata": {
        "id": "fk5jemyME22z",
        "colab_type": "code",
        "colab": {
          "base_uri": "https://localhost:8080/",
          "height": 34
        },
        "outputId": "1c6fcda2-195b-429b-ebf0-3e8f3ac9038e"
      },
      "source": [
        "async def request_test_url():\n",
        "    url_test = 'https://jurisprudencia.stf.jus.br/api/search/search'\n",
        "    search_query = '*'\n",
        "    page = 0\n",
        "    size = 10\n",
        "    params = query_builder(search_query, size, page)\n",
        "    async with aiohttp.ClientSession() as session:\n",
        "        response = await request_url(session, url_test, params)\n",
        "        print(response)\n",
        "\n",
        "loop = asyncio.get_event_loop()\n",
        "loop.create_task(request_test_url())"
      ],
      "execution_count": 5,
      "outputs": [
        {
          "output_type": "execute_result",
          "data": {
            "text/plain": [
              "<Task pending coro=<request_test_url() running at <ipython-input-5-8ae3ee472b9b>:1>>"
            ]
          },
          "metadata": {
            "tags": []
          },
          "execution_count": 5
        }
      ]
    },
    {
      "cell_type": "code",
      "metadata": {
        "id": "HYdjNQvyE23f",
        "colab_type": "code",
        "colab": {
          "base_uri": "https://localhost:8080/",
          "height": 34
        },
        "outputId": "5c2b29b9-a1a0-4aea-d48f-8354d87b8529"
      },
      "source": [
        "async def scrap_single_test():\n",
        "  search_query = 'Lula'\n",
        "  size = 150\n",
        "  max_page = -1\n",
        "  async with aiohttp.ClientSession() as session:\n",
        "    result = await scrap_single(session, search_query, size, max_page)\n",
        "    print(len(result))\n",
        "    print(result)\n",
        "\n",
        "loop = asyncio.get_event_loop()\n",
        "loop.create_task(scrap_single_test())"
      ],
      "execution_count": 6,
      "outputs": [
        {
          "output_type": "execute_result",
          "data": {
            "text/plain": [
              "<Task pending coro=<scrap_single_test() running at <ipython-input-6-61055f8e4f1a>:1>>"
            ]
          },
          "metadata": {
            "tags": []
          },
          "execution_count": 6
        }
      ]
    },
    {
      "cell_type": "code",
      "metadata": {
        "id": "B5J_CE1YE232",
        "colab_type": "code",
        "colab": {
          "base_uri": "https://localhost:8080/",
          "height": 34
        },
        "outputId": "94e2c8fe-3398-4779-a25e-c0b6c1808aac"
      },
      "source": [
        "async def download_test():\n",
        "  urlTest='http://www.stf.jus.br/portal/inteiroTeor/obterInteiroTeor.asp?idDocumento=3442694'\n",
        "  response=Download(urlTest)\n",
        "  print(response)\n",
        "\n",
        "loop = asyncio.get_event_loop()\n",
        "loop.create_task(download_test())"
      ],
      "execution_count": 7,
      "outputs": [
        {
          "output_type": "execute_result",
          "data": {
            "text/plain": [
              "<Task pending coro=<download_test() running at <ipython-input-7-036663147e8f>:1>>"
            ]
          },
          "metadata": {
            "tags": []
          },
          "execution_count": 7
        }
      ]
    },
    {
      "cell_type": "code",
      "metadata": {
        "id": "pfQkuleTE24M",
        "colab_type": "code",
        "colab": {
          "base_uri": "https://localhost:8080/",
          "height": 121
        },
        "outputId": "28dedf98-d051-41dd-eea0-c37ecb058c19"
      },
      "source": [
        "def download_list_test():\n",
        "  urls = ['http://www.stf.jus.br/portal/inteiroTeor/obterInteiroTeor.asp?idDocumento=11480004',\n",
        "          'http://www.stf.jus.br/portal/inteiroTeor/obterInteiroTeor.asp?idDocumento=11480004',\n",
        "          'http://www.stf.jus.br/portal/inteiroTeor/obterInteiroTeor.asp?idDocumento=3442694']\n",
        "  result = download_list(urls)\n",
        "    \n",
        "download_list_test()"
      ],
      "execution_count": 8,
      "outputs": [
        {
          "output_type": "stream",
          "text": [
            "3442694.pdf\n"
          ],
          "name": "stdout"
        },
        {
          "output_type": "stream",
          "text": [
            "360141it [00:04, 84961.05it/s] \n"
          ],
          "name": "stderr"
        },
        {
          "output_type": "stream",
          "text": [
            "True\n",
            "11480004.pdf\n"
          ],
          "name": "stdout"
        },
        {
          "output_type": "stream",
          "text": [
            "394772it [00:04, 93653.31it/s] "
          ],
          "name": "stderr"
        },
        {
          "output_type": "stream",
          "text": [
            "True\n"
          ],
          "name": "stdout"
        },
        {
          "output_type": "stream",
          "text": [
            "\n"
          ],
          "name": "stderr"
        }
      ]
    },
    {
      "cell_type": "code",
      "metadata": {
        "id": "BDEUPf-1E24V",
        "colab_type": "code",
        "colab": {}
      },
      "source": [
        ""
      ],
      "execution_count": 8,
      "outputs": []
    }
  ]
}