{
  "nbformat": 4,
  "nbformat_minor": 0,
  "metadata": {
    "kernelspec": {
      "display_name": "Python 3",
      "language": "python",
      "name": "python3"
    },
    "language_info": {
      "codemirror_mode": {
        "name": "ipython",
        "version": 3
      },
      "file_extension": ".py",
      "mimetype": "text/x-python",
      "name": "python",
      "nbconvert_exporter": "python",
      "pygments_lexer": "ipython3",
      "version": "3.7.7"
    },
    "colab": {
      "name": "jurisprudencia_scraper.ipynb",
      "provenance": [],
      "include_colab_link": true
    }
  },
  "cells": [
    {
      "cell_type": "markdown",
      "metadata": {
        "id": "view-in-github",
        "colab_type": "text"
      },
      "source": [
        "<a href=\"https://colab.research.google.com/github/zuckberj/jurisprudence-data-analysis/blob/master/jurisprudencia_scraper.ipynb\" target=\"_parent\"><img src=\"https://colab.research.google.com/assets/colab-badge.svg\" alt=\"Open In Colab\"/></a>"
      ]
    },
    {
      "cell_type": "code",
      "metadata": {
        "id": "5Up0zHNkE22d",
        "colab_type": "code",
        "colab": {}
      },
      "source": [
        "from concurrent.futures import ThreadPoolExecutor\n",
        "from tqdm import tqdm\n",
        "import requests\n",
        "import aiohttp\n",
        "import asyncio\n",
        "import json\n",
        "\n",
        "async def request_url(session, url, params):\n",
        "    #proxies = {\"http\": \"http://127.0.0.1:8080\", \"https\": \"http://127.0.0.1:8080\"}\n",
        "    #async with session.get(url+\"/\"+path,proxy=\"http://127.0.0.1:8080\",ssl=ssl.SSLContext()) as response:\n",
        "    try:\n",
        "        headers = {'accept': 'application/json'}\n",
        "        async with session.post(url,data=params,headers=headers) as response:\n",
        "            if response.status != 200:\n",
        "                return None\n",
        "            return await response.text()\n",
        "    except:\n",
        "        return None\n",
        "\n",
        "def query_builder():\n",
        "  return {\n",
        "    \"query\":{\n",
        "        \"function_score\":{\n",
        "            \"query\":{\n",
        "                \"bool\":{\n",
        "                    \"filter\":[\n",
        "                        {\n",
        "                            \"query_string\":{\n",
        "                                \"default_operator\":\"AND\",\n",
        "                                \"fields\":\"\",\n",
        "                                \"query\":\"\",\n",
        "                                \"quote_analyzer\":\"standard_analyzer\",\n",
        "                                \"quote_field_suffix\":\".standard\",\n",
        "                                \"type\":\"cross_fields\",\n",
        "                                \"fuzziness\":\"AUTO:4,7\"\n",
        "                            }\n",
        "                        }\n",
        "                    ]\n",
        "                }\n",
        "            }\n",
        "        }\n",
        "    },\n",
        "    \"_source\":[\n",
        "        \"inteiro_teor_url\"\n",
        "    ],\n",
        "    \"aggs\":{\n",
        "        \"base_agg\":{\n",
        "            \"filters\":{\n",
        "                \"filters\":{\n",
        "                    \"acordaos\":{\n",
        "                        \"match\":{\n",
        "                            \"base\":\"acordaos\"\n",
        "                        }\n",
        "                    },\n",
        "                    \"sumulas\":{\n",
        "                        \"match\":{\n",
        "                            \"base\":\"sumulas\"\n",
        "                        }\n",
        "                    },\n",
        "                    \"decisoes\":{\n",
        "                        \"match\":{\n",
        "                            \"base\":\"decisoes\"\n",
        "                        }\n",
        "                    },\n",
        "                    \"informativos\":{\n",
        "                        \"match\":{\n",
        "                            \"base\":\"informativos\"\n",
        "                        }\n",
        "                    }\n",
        "                }\n",
        "            }\n",
        "        }\n",
        "    },\n",
        "    \"size\":\"\",\n",
        "    \"from\":\"\"\n",
        "\n",
        "}"
      ],
      "execution_count": null,
      "outputs": []
    },
    {
      "cell_type": "code",
      "metadata": {
        "id": "fk5jemyME22z",
        "colab_type": "code",
        "colab": {},
        "outputId": "1113ca66-c06a-4455-ad11-5813fffa2530"
      },
      "source": [
        "async def request_test_url():\n",
        "    url_test = 'https://jurisprudencia.stf.jus.br/api/search/search'\n",
        "    search_query = '*'\n",
        "    page = 0\n",
        "    size = 10\n",
        "    params = '{\"query\":{\"function_score\":{\"query\":{\"bool\":{\"filter\":[{\"query_string\":{\"default_operator\":\"AND\",\"fields\":,\"query\":\"'+search_query+'\",\"quote_analyzer\":\"standard_analyzer\",\"quote_field_suffix\":\".standard\",\"type\":\"cross_fields\",\"fuzziness\":\"AUTO:4,7\"}}]}}}},\"_source\":[\"inteiro_teor_url\"],\"aggs\":{\"base_agg\":{\"filters\":{\"filters\":{\"acordaos\":{\"match\":{\"base\":\"acordaos\"}},\"sumulas\":{\"match\":{\"base\":\"sumulas\"}},\"decisoes\":{\"match\":{\"base\":\"decisoes\"}},\"informativos\":{\"match\":{\"base\":\"informativos\"}}}}}},\"size\":'+str(size)+',\"from\":'+str(page)+'}'\n",
        "    params = {\n",
        "        'query': {\n",
        "            'function_score': {\n",
        "                'query': {\n",
        "                    'bool': {\n",
        "                        'filter': [\n",
        "                                   {\n",
        "                                       'query_string': {\n",
        "                                           'default_operator': 'AND',\n",
        "                                           'fields': [\n",
        "                                                      \"acordao_ata^3\",\n",
        "                                                      \"documental_acordao_mesmo_sentido_lista_texto\",\n",
        "                                                      \"documental_doutrina_texto\",\n",
        "                                                      \"documental_indexacao_texto\",\n",
        "                                                      \"documental_jurisprudencia_citada_texto\",\n",
        "                                                      \"documental_legislacao_citada_texto\",\n",
        "                                                      \"documental_observacao_texto\",\n",
        "                                                      \"documental_publicacao_lista_texto\",\n",
        "                                                      \"documental_tese_tema_texto^3\",\n",
        "                                                      \"documental_tese_texto^3\",\n",
        "                                                      \"ementa_texto^3\",\n",
        "                                                      \"ministro_facet\",\n",
        "                                                      \"orgao_julgador\",\n",
        "                                                      \"partes_lista_texto\",\n",
        "                                                      \"procedencia_geografica_completo\",\n",
        "                                                      \"processo_classe_processual_unificada_extenso\",\n",
        "                                                      \"titulo^6\",\n",
        "                                                      \"colac_numero\",\n",
        "                                                      \"colac_pagina\",\n",
        "                                                      \"decisao_texto^2\",\n",
        "                                                      \"documental_decisao_mesmo_sentido_lista_texto\",\n",
        "                                                      \"processo_precedente_texto\",\n",
        "                                                      \"sumula_texto^3\",\n",
        "                                                      \"conteudo_texto\"\n",
        "                                                      ],\n",
        "                                              ''\n",
        "                                       }\n",
        "                                   }\n",
        "                        ]\n",
        "                    }\n",
        "                }\n",
        "            }\n",
        "        }\n",
        "    }\n",
        "    async with aiohttp.ClientSession() as sessionTest:\n",
        "        response=await RequestUrl(sessionTest,urlTest,params)\n",
        "        print(response)\n",
        "\n",
        "loop=asyncio.get_event_loop()\n",
        "loop.create_task(RequestUrlTest())"
      ],
      "execution_count": null,
      "outputs": [
        {
          "output_type": "execute_result",
          "data": {
            "text/plain": [
              "<Task pending coro=<RequestUrlTest() running at <ipython-input-2-05b211564e61>:1>>"
            ]
          },
          "metadata": {
            "tags": []
          },
          "execution_count": 2
        },
        {
          "output_type": "stream",
          "text": [
            "{\"result\":{\"took\":112,\"timed_out\":false,\"_shards\":{\"total\":5,\"successful\":5,\"skipped\":0,\"failed\":0},\"hits\":{\"total\":{\"value\":10000,\"relation\":\"gte\"},\"max_score\":0.0,\"hits\":[{\"_index\":\"stf-idx20200519\",\"_type\":\"_doc\",\"_id\":\"colac26290\",\"_score\":0.0,\"_source\":{\"inteiro_teor_url\":\"http://stf.jus.br/portal/inteiroTeor/obterInteiroTeor.asp?numero=6093&classe=AI\"}},{\"_index\":\"stf-idx20200519\",\"_type\":\"_doc\",\"_id\":\"colac26289\",\"_score\":0.0,\"_source\":{\"inteiro_teor_url\":\"http://stf.jus.br/portal/inteiroTeor/obterInteiroTeor.asp?numero=6954&classe=AI\"}},{\"_index\":\"stf-idx20200519\",\"_type\":\"_doc\",\"_id\":\"colac26773\",\"_score\":0.0,\"_source\":{\"inteiro_teor_url\":\"http://stf.jus.br/portal/inteiroTeor/obterInteiroTeor.asp?numero=285&classe=MS\"}},{\"_index\":\"stf-idx20200519\",\"_type\":\"_doc\",\"_id\":\"colac28654\",\"_score\":0.0,\"_source\":{\"inteiro_teor_url\":\"http://stf.jus.br/portal/inteiroTeor/obterInteiroTeor.asp?numero=4081&classe=RvC\"}},{\"_index\":\"stf-idx20200519\",\"_type\":\"_doc\",\"_id\":\"colac29462\",\"_score\":0.0,\"_source\":{\"inteiro_teor_url\":\"http://stf.jus.br/portal/inteiroTeor/obterInteiroTeor.asp?numero=57578&classe=HC\"}},{\"_index\":\"stf-idx20200519\",\"_type\":\"_doc\",\"_id\":\"colac29458\",\"_score\":0.0,\"_source\":{\"inteiro_teor_url\":\"http://stf.jus.br/portal/inteiroTeor/obterInteiroTeor.asp?numero=59735&classe=RE\"}},{\"_index\":\"stf-idx20200519\",\"_type\":\"_doc\",\"_id\":\"repercussao-geral2824\",\"_score\":0.0,\"_source\":{\"inteiro_teor_url\":\"http://stf.jus.br/portal/inteiroTeor/obterInteiroTeor.asp?numero=642682&classe=RE-RG\"}},{\"_index\":\"stf-idx20200519\",\"_type\":\"_doc\",\"_id\":\"repercussao-geral1524\",\"_score\":0.0,\"_source\":{\"inteiro_teor_url\":\"http://stf.jus.br/portal/inteiroTeor/obterInteiroTeor.asp?numero=605993&classe=RE-RG\"}},{\"_index\":\"stf-idx20200519\",\"_type\":\"_doc\",\"_id\":\"repercussao-geral1525\",\"_score\":0.0,\"_source\":{\"inteiro_teor_url\":\"http://stf.jus.br/portal/inteiroTeor/obterInteiroTeor.asp?numero=722834&classe=AI-RG\"}},{\"_index\":\"stf-idx20200519\",\"_type\":\"_doc\",\"_id\":\"repercussao-geral1145\",\"_score\":0.0,\"_source\":{\"inteiro_teor_url\":\"http://stf.jus.br/portal/inteiroTeor/obterInteiroTeor.asp?numero=758019&classe=AI-RG\"}}]},\"aggregations\":{\"base_agg\":{\"buckets\":{\"acordaos\":{\"doc_count\":314816},\"decisoes\":{\"doc_count\":446999},\"informativos\":{\"doc_count\":983},\"sumulas\":{\"doc_count\":793}}}}},\"search_id\":2746896}\n"
          ],
          "name": "stdout"
        }
      ]
    },
    {
      "cell_type": "code",
      "metadata": {
        "id": "K1MEVeFTE23K",
        "colab_type": "code",
        "colab": {}
      },
      "source": [
        "async def ScrapSingleQuery(session,search_query,size,max_page=-1):\n",
        "    url='https://jurisprudencia.stf.jus.br/api/search/search'\n",
        "    index=0\n",
        "    eof=False\n",
        "    pdf_urls=[]\n",
        "    while not eof and index!=max_page*size:\n",
        "        params='{\"query\":{\"function_score\":{\"query\":{\"bool\":{\"filter\":[{\"query_string\":{\"default_operator\":\"AND\",\"fields\":[\"acordao_ata^3\",\"documental_acordao_mesmo_sentido_lista_texto\",\"documental_doutrina_texto\",\"documental_indexacao_texto\",\"documental_jurisprudencia_citada_texto\",\"documental_legislacao_citada_texto\",\"documental_observacao_texto\",\"documental_publicacao_lista_texto\",\"documental_tese_tema_texto^3\",\"documental_tese_texto^3\",\"ementa_texto^3\",\"ministro_facet\",\"orgao_julgador\",\"partes_lista_texto\",\"procedencia_geografica_completo\",\"processo_classe_processual_unificada_extenso\",\"titulo^6\",\"colac_numero\",\"colac_pagina\",\"decisao_texto^2\",\"documental_decisao_mesmo_sentido_lista_texto\",\"processo_precedente_texto\",\"sumula_texto^3\",\"conteudo_texto\"],\"query\":\"'+search_query+'\",\"quote_analyzer\":\"standard_analyzer\",\"quote_field_suffix\":\".standard\",\"type\":\"cross_fields\",\"fuzziness\":\"AUTO:4,7\"}}]}}}},\"_source\":[\"inteiro_teor_url\"],\"aggs\":{\"base_agg\":{\"filters\":{\"filters\":{\"acordaos\":{\"match\":{\"base\":\"acordaos\"}},\"sumulas\":{\"match\":{\"base\":\"sumulas\"}},\"decisoes\":{\"match\":{\"base\":\"decisoes\"}},\"informativos\":{\"match\":{\"base\":\"informativos\"}}}}}},\"size\":'+str(size)+',\"from\":'+str(index)+'}'\n",
        "        response=await RequestUrl(session,url,params)\n",
        "        results=json.loads(response)['result']['hits']['hits']\n",
        "        pdf_urls=pdf_urls+[result['_source']['inteiro_teor_url'] for result in results if result['_source']!={}]\n",
        "        if not results:\n",
        "            eof=True\n",
        "        index+=size\n",
        "    return pdf_urls\n",
        "        "
      ],
      "execution_count": null,
      "outputs": []
    },
    {
      "cell_type": "code",
      "metadata": {
        "id": "HYdjNQvyE23f",
        "colab_type": "code",
        "colab": {},
        "outputId": "c664cc2b-89e0-48a5-aeeb-add607fe4961"
      },
      "source": [
        "async def ScrapSingleQueryTest():\n",
        "    search_query='Lula'\n",
        "    size=150\n",
        "    max_page=-1\n",
        "    async with aiohttp.ClientSession() as session:\n",
        "        result=await ScrapSingleQuery(session,search_query,size,max_page)\n",
        "        print(len(result))\n",
        "        print(result)\n",
        "\n",
        "loop=asyncio.get_event_loop()\n",
        "loop.create_task(ScrapSingleQueryTest())"
      ],
      "execution_count": null,
      "outputs": [
        {
          "output_type": "execute_result",
          "data": {
            "text/plain": [
              "<Task pending coro=<ScrapSingleQueryTest() running at <ipython-input-25-39cbc9e7b654>:1>>"
            ]
          },
          "metadata": {
            "tags": []
          },
          "execution_count": 25
        },
        {
          "output_type": "stream",
          "text": [
            "63\n",
            "['http://stf.jus.br/portal/inteiroTeor/obterInteiroTeor.asp?numero=83154&classe=HC', 'http://www.stf.jus.br/portal/inteiroTeor/obterInteiroTeor.asp?idDocumento=752235149', 'http://www.stf.jus.br/portal/inteiroTeor/obterInteiroTeor.asp?idDocumento=752184399', 'http://www.stf.jus.br/portal/inteiroTeor/obterInteiroTeor.asp?idDocumento=752783306', 'http://www.stf.jus.br/portal/inteiroTeor/obterInteiroTeor.asp?idDocumento=750698504', 'http://www.stf.jus.br/portal/inteiroTeor/obterInteiroTeor.asp?idDocumento=750698439', 'http://www.stf.jus.br/portal/inteiroTeor/obterInteiroTeor.asp?idDocumento=749950185', 'http://www.stf.jus.br/portal/inteiroTeor/obterInteiroTeor.asp?idDocumento=13534835', 'http://stf.jus.br/portal/inteiroTeor/obterInteiroTeor.asp?numero=83337&classe=RE', 'http://stf.jus.br/portal/inteiroTeor/obterInteiroTeor.asp?numero=524853&classe=AI-AgR', 'http://stf.jus.br/portal/inteiroTeor/obterInteiroTeor.asp?numero=6031&classe=Rcl-AgR', 'http://stf.jus.br/portal/inteiroTeor/obterInteiroTeor.asp?numero=706513&classe=AI-AgR', 'http://stf.jus.br/portal/inteiroTeor/obterInteiroTeor.asp?numero=271622&classe=RE-AgR', 'http://stf.jus.br/portal/inteiroTeor/obterInteiroTeor.asp?numero=382866&classe=AI-AgR', 'http://stf.jus.br/portal/inteiroTeor/obterInteiroTeor.asp?numero=551875&classe=RE', 'http://www.stf.jus.br/portal/inteiroTeor/obterInteiroTeor.asp?idDocumento=752783305', 'http://www.stf.jus.br/portal/inteiroTeor/obterInteiroTeor.asp?idDocumento=13625846', 'http://www.stf.jus.br/portal/inteiroTeor/obterInteiroTeor.asp?idDocumento=14203323', 'http://www.stf.jus.br/portal/inteiroTeor/obterInteiroTeor.asp?idDocumento=14613954', 'http://www.stf.jus.br/portal/inteiroTeor/obterInteiroTeor.asp?idDocumento=15133304', 'http://www.stf.jus.br/portal/inteiroTeor/obterInteiroTeor.asp?idDocumento=749829042', 'http://www.stf.jus.br/portal/inteiroTeor/obterInteiroTeor.asp?idDocumento=747950794', 'http://www.stf.jus.br/portal/inteiroTeor/obterInteiroTeor.asp?idDocumento=748785544', 'http://www.stf.jus.br/portal/inteiroTeor/obterInteiroTeor.asp?idDocumento=15066099', 'http://www.stf.jus.br/portal/inteiroTeor/obterInteiroTeor.asp?idDocumento=14525560', 'http://www.stf.jus.br/portal/inteiroTeor/obterInteiroTeor.asp?idDocumento=4872084', 'http://stf.jus.br/portal/inteiroTeor/obterInteiroTeor.asp?numero=91058&classe=RE', 'http://stf.jus.br/portal/inteiroTeor/obterInteiroTeor.asp?numero=3422&classe=Pet-AgR', 'http://stf.jus.br/portal/inteiroTeor/obterInteiroTeor.asp?numero=90427&classe=AI-AgR', 'http://stf.jus.br/portal/inteiroTeor/obterInteiroTeor.asp?numero=89420&classe=RE', 'http://www.stf.jus.br/portal/inteiroTeor/obterInteiroTeor.asp?idDocumento=8634322', 'http://www.stf.jus.br/portal/inteiroTeor/obterInteiroTeor.asp?idDocumento=4106999', 'http://www.stf.jus.br/portal/inteiroTeor/obterInteiroTeor.asp?idDocumento=4919309', 'http://www.stf.jus.br/portal/inteiroTeor/obterInteiroTeor.asp?idDocumento=10594721', 'http://www.stf.jus.br/portal/inteiroTeor/obterInteiroTeor.asp?idDocumento=14836603', 'http://www.stf.jus.br/portal/inteiroTeor/obterInteiroTeor.asp?idDocumento=14752801', 'http://www.stf.jus.br/portal/inteiroTeor/obterInteiroTeor.asp?idDocumento=14613957', 'http://www.stf.jus.br/portal/inteiroTeor/obterInteiroTeor.asp?idDocumento=749679832', 'http://www.stf.jus.br/portal/inteiroTeor/obterInteiroTeor.asp?idDocumento=749718324', 'http://www.stf.jus.br/portal/inteiroTeor/obterInteiroTeor.asp?idDocumento=750728331', 'http://www.stf.jus.br/portal/inteiroTeor/obterInteiroTeor.asp?idDocumento=748712295', 'http://www.stf.jus.br/portal/inteiroTeor/obterInteiroTeor.asp?idDocumento=14180590', 'http://www.stf.jus.br/portal/inteiroTeor/obterInteiroTeor.asp?idDocumento=14216695', 'http://www.stf.jus.br/portal/inteiroTeor/obterInteiroTeor.asp?idDocumento=8428564', 'http://stf.jus.br/portal/inteiroTeor/obterInteiroTeor.asp?numero=65745&classe=HC', 'http://stf.jus.br/portal/inteiroTeor/obterInteiroTeor.asp?numero=659791&classe=AI-AgR', 'http://stf.jus.br/portal/inteiroTeor/obterInteiroTeor.asp?numero=85029&classe=HC', 'http://stf.jus.br/portal/inteiroTeor/obterInteiroTeor.asp?numero=88640&classe=HC-AgR', 'http://www.stf.jus.br/portal/inteiroTeor/obterInteiroTeor.asp?idDocumento=752183984', 'http://www.stf.jus.br/portal/inteiroTeor/obterInteiroTeor.asp?idDocumento=751278591', 'http://www.stf.jus.br/portal/inteiroTeor/obterInteiroTeor.asp?idDocumento=749269843', 'http://www.stf.jus.br/portal/inteiroTeor/obterInteiroTeor.asp?idDocumento=750833046', 'http://www.stf.jus.br/portal/inteiroTeor/obterInteiroTeor.asp?idDocumento=748192666', 'http://www.stf.jus.br/portal/inteiroTeor/obterInteiroTeor.asp?idDocumento=13618462', 'http://www.stf.jus.br/portal/inteiroTeor/obterInteiroTeor.asp?idDocumento=11480004', 'http://www.stf.jus.br/portal/inteiroTeor/obterInteiroTeor.asp?idDocumento=752180947', 'http://www.stf.jus.br/portal/inteiroTeor/obterInteiroTeor.asp?idDocumento=15119672', 'http://www.stf.jus.br/portal/inteiroTeor/obterInteiroTeor.asp?idDocumento=15133259', 'http://www.stf.jus.br/portal/inteiroTeor/obterInteiroTeor.asp?idDocumento=15132272', 'http://www.stf.jus.br/portal/inteiroTeor/obterInteiroTeor.asp?idDocumento=15079614', 'http://www.stf.jus.br/portal/inteiroTeor/obterInteiroTeor.asp?idDocumento=13086720', 'http://www.stf.jus.br/portal/inteiroTeor/obterInteiroTeor.asp?idDocumento=3442694', 'http://www.stf.jus.br/portal/inteiroTeor/obterInteiroTeor.asp?idDocumento=2905038']\n"
          ],
          "name": "stdout"
        }
      ]
    },
    {
      "cell_type": "code",
      "metadata": {
        "id": "S3-GHFkzE23p",
        "colab_type": "code",
        "colab": {}
      },
      "source": [
        "def Download(url):\n",
        "    file_name = url.split('=')[1]+'.pdf'\n",
        "    print(file_name)\n",
        "    try:\n",
        "        response = requests.get(url, stream=True)\n",
        "        with open(file_name, \"wb\") as handle:\n",
        "            for data in tqdm(response.iter_content()):\n",
        "                handle.write(data)\n",
        "        return True\n",
        "    except Exception as e:\n",
        "        print(\"Error while downloading. Trying Again. \"+str(e))\n",
        "        return False"
      ],
      "execution_count": null,
      "outputs": []
    },
    {
      "cell_type": "code",
      "metadata": {
        "id": "B5J_CE1YE232",
        "colab_type": "code",
        "colab": {},
        "outputId": "3c8195eb-5798-449a-95e4-3e22dcedbad1"
      },
      "source": [
        "async def DownloadTest():\n",
        "    urlTest='http://www.stf.jus.br/portal/inteiroTeor/obterInteiroTeor.asp?idDocumento=3442694'\n",
        "    response=Download(urlTest)\n",
        "    print(response)\n",
        "\n",
        "loop=asyncio.get_event_loop()\n",
        "loop.create_task(DownloadTest())"
      ],
      "execution_count": null,
      "outputs": [
        {
          "output_type": "execute_result",
          "data": {
            "text/plain": [
              "<Task pending coro=<DownloadTest() running at <ipython-input-46-c0648cb6660d>:1>>"
            ]
          },
          "metadata": {
            "tags": []
          },
          "execution_count": 46
        },
        {
          "output_type": "stream",
          "text": [
            "3442694.pdf\n"
          ],
          "name": "stdout"
        },
        {
          "output_type": "stream",
          "text": [
            "360141it [00:08, 44516.73it/s]\n"
          ],
          "name": "stderr"
        },
        {
          "output_type": "stream",
          "text": [
            "True\n"
          ],
          "name": "stdout"
        }
      ]
    },
    {
      "cell_type": "code",
      "metadata": {
        "id": "aRAm_wHKE24F",
        "colab_type": "code",
        "colab": {}
      },
      "source": [
        "def DownloadList(urls_):\n",
        "    urls=set(urls_)\n",
        "    for url in urls:\n",
        "        result=Download(url)\n",
        "        print(result)"
      ],
      "execution_count": null,
      "outputs": []
    },
    {
      "cell_type": "code",
      "metadata": {
        "id": "pfQkuleTE24M",
        "colab_type": "code",
        "colab": {},
        "outputId": "54dd52b7-184a-4d07-dc11-dafcd0f00136"
      },
      "source": [
        "def DownloadListTest():\n",
        "    urls=['http://www.stf.jus.br/portal/inteiroTeor/obterInteiroTeor.asp?idDocumento=11480004','http://www.stf.jus.br/portal/inteiroTeor/obterInteiroTeor.asp?idDocumento=11480004', 'http://www.stf.jus.br/portal/inteiroTeor/obterInteiroTeor.asp?idDocumento=3442694']\n",
        "    result=DownloadList(urls)\n",
        "    \n",
        "DownloadListTest()"
      ],
      "execution_count": null,
      "outputs": [
        {
          "output_type": "stream",
          "text": [
            "3442694.pdf\n"
          ],
          "name": "stdout"
        },
        {
          "output_type": "stream",
          "text": [
            "360141it [00:07, 45640.16it/s]\n"
          ],
          "name": "stderr"
        },
        {
          "output_type": "stream",
          "text": [
            "True\n",
            "11480004.pdf\n"
          ],
          "name": "stdout"
        },
        {
          "output_type": "stream",
          "text": [
            "394772it [00:08, 48849.72it/s]"
          ],
          "name": "stderr"
        },
        {
          "output_type": "stream",
          "text": [
            "True\n"
          ],
          "name": "stdout"
        },
        {
          "output_type": "stream",
          "text": [
            "\n"
          ],
          "name": "stderr"
        }
      ]
    },
    {
      "cell_type": "code",
      "metadata": {
        "id": "BDEUPf-1E24V",
        "colab_type": "code",
        "colab": {}
      },
      "source": [
        ""
      ],
      "execution_count": null,
      "outputs": []
    }
  ]
}